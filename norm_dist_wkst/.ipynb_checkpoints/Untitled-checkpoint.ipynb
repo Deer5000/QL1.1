{
 "cells": [
  {
   "cell_type": "markdown",
   "metadata": {},
   "source": [
    "Worksheet – Normal Distributions"
   ]
  },
  {
   "cell_type": "markdown",
   "metadata": {},
   "source": [
    "1. For each problem below draw a picture of the normal curve and shade the area you have to find. Let Z represent a variable following a standard normal distribution.\n",
    "\n",
    "\n",
    "(a) Find the proportion that is less than z=2.00.\n",
    "\n",
    "(b) Find the proportion that is between z = −.13 and z = 1.75.\n",
    "\n",
    "(c) Find the proportion that is greater than z=1.86.\n",
    "\n",
    "(d) Find the z−score for the 64th percentile.\n",
    "\n",
    "(e) Find the z−scores that bound the middle 50% of all data\n",
    "\n",
    "(f) Find the z−score for the 24th percentile.\n"
   ]
  },
  {
   "cell_type": "code",
   "execution_count": 9,
   "metadata": {},
   "outputs": [
    {
     "name": "stdout",
     "output_type": "stream",
     "text": [
      "SKIP\n"
     ]
    }
   ],
   "source": [
    "print(\"SKIP\")"
   ]
  },
  {
   "cell_type": "markdown",
   "metadata": {},
   "source": [
    "\n",
    "2. Former ISU basketball player Kelvin Cato is 83 inches tall. Assuming that heights follow approxi- mately a normal distribution with mean 70 and standard deviation σ = 3,\n",
    "\n",
    "\n",
    "(a) what is his corresponding z-score?\n",
    "\n",
    "(b) what proportion of men are taller than him?"
   ]
  },
  {
   "cell_type": "code",
   "execution_count": 3,
   "metadata": {},
   "outputs": [
    {
     "name": "stdout",
     "output_type": "stream",
     "text": [
      "A = 4.333333333333333\n",
      "B = None\n"
     ]
    }
   ],
   "source": [
    "inches = 83\n",
    "mean = 70\n",
    "sdev= 3\n",
    "\n",
    "z = (inches - mean)/sdev\n",
    "print(\"A = \" + str(z))\n",
    "print(\"B = None\")\n"
   ]
  },
  {
   "cell_type": "markdown",
   "metadata": {},
   "source": [
    "3. Since the length of a downhill ski is related to the height of the individuals renting them, it is fair to assume that a normal distribution would describe the length of women’s skis at rental outlets in Colorado. The mean of the distribution is 150 cm and the standard deviation is 10 cm.\n",
    "\n",
    "\n",
    "(a) What is the proportion of women’s ski lengths that are less than 130 cm?\n",
    "\n",
    "(b) What is the proportion of women’s ski lengths that are greater than 125 cm?\n",
    "\n",
    "(c) What is the proportion of women’s ski lengths that are between 125 and 155?\n",
    "\n",
    "(d) Very long skies are expensive and there are not many people who rent them. What is the longest women’s ski a rental shop should carry so that only 2 percent of the costumers will ask to rent a longer ski?\n"
   ]
  },
  {
   "cell_type": "code",
   "execution_count": 6,
   "metadata": {},
   "outputs": [
    {
     "name": "stdout",
     "output_type": "stream",
     "text": [
      "-2.0\n",
      "-2.5\n",
      "0.5\n",
      "170\n"
     ]
    }
   ],
   "source": [
    "mean = 150\n",
    "sdev = 10\n",
    "\n",
    "def proportion(length_of_ski):\n",
    "    prop = (length_of_ski - mean)/ (sdev)\n",
    "    print(prop)\n",
    "    \n",
    "a = proportion(130)\n",
    "b = proportion(125)\n",
    "c = proportion(155)\n",
    "d = (2 * sdev) + mean\n",
    "print(d)"
   ]
  },
  {
   "cell_type": "markdown",
   "metadata": {},
   "source": [
    "4. The BMI for males age 20 to 74 is follows approximately a normal distribution with mean μ = 27.9 and standard deviation σ = 7.8. Use the 68-95-99.7 rule to find\n",
    "\n",
    "\n",
    "(a) the percentage of males with BMI less than 20.1.\n",
    "\n",
    "(b) the percentages of males with BMI greater than 12.3.\n",
    "\n",
    "(c) the BMI values that correspond to the middle 99.7% of the distribution.\n",
    "\n",
    "(d) the value such that 0.15% of males have BMI’s greater than the value."
   ]
  },
  {
   "cell_type": "code",
   "execution_count": 8,
   "metadata": {},
   "outputs": [
    {
     "name": "stdout",
     "output_type": "stream",
     "text": [
      "-0.9999999999999997\n",
      "-1.9999999999999998\n",
      "4.5\n",
      "51.3\n"
     ]
    }
   ],
   "source": [
    "mean = 27.9\n",
    "sdev = 7.8\n",
    "\n",
    "def BMI(bmi):\n",
    "    b = (bmi - mean)/(sdev)\n",
    "    print(b)\n",
    "    \n",
    "A = BMI(20.1)\n",
    "B = BMI(12.3)\n",
    "low = mean - (3 * sdev)\n",
    "print(low)\n",
    "up =  mean + (3 * sdev)\n",
    "print(up)"
   ]
  },
  {
   "cell_type": "code",
   "execution_count": null,
   "metadata": {},
   "outputs": [],
   "source": []
  }
 ],
 "metadata": {
  "kernelspec": {
   "display_name": "Python 3",
   "language": "python",
   "name": "python3"
  },
  "language_info": {
   "codemirror_mode": {
    "name": "ipython",
    "version": 3
   },
   "file_extension": ".py",
   "mimetype": "text/x-python",
   "name": "python",
   "nbconvert_exporter": "python",
   "pygments_lexer": "ipython3",
   "version": "3.7.7"
  }
 },
 "nbformat": 4,
 "nbformat_minor": 4
}
